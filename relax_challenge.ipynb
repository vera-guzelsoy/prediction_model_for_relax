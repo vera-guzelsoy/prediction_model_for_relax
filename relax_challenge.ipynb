{
 "cells": [
  {
   "cell_type": "markdown",
   "metadata": {},
   "source": [
    "# Relax Data Science Take Home Challenge\n",
    "\n",
    "## Import Libraries and datasets"
   ]
  },
  {
   "cell_type": "code",
   "execution_count": 68,
   "metadata": {},
   "outputs": [],
   "source": [
    "import pandas as pd\n",
    "import numpy as np\n",
    "import matplotlib.pyplot as plt\n",
    "import seaborn as sns\n",
    "from datetime import datetime\n",
    "from tqdm import tqdm\n",
    "from collections import Counter\n",
    "%matplotlib inline\n",
    "from scipy import stats\n",
    "from sklearn.ensemble import RandomForestClassifier\n",
    "from sklearn.metrics import roc_curve, auc, accuracy_score\n",
    "from sklearn.model_selection import GridSearchCV, KFold, cross_val_score\n",
    "from sklearn.feature_selection import SelectKBest, chi2\n",
    "from sklearn.model_selection import cross_val_score\n",
    "import time\n",
    "from sklearn.metrics import confusion_matrix\n",
    "from sklearn.metrics import classification_report\n",
    "from sklearn.model_selection import train_test_split\n",
    "from sklearn.model_selection import GridSearchCV\n",
    "from sklearn import metrics\n",
    "import statsmodels.api as sm\n",
    "from sklearn.model_selection import train_test_split, cross_val_score, GridSearchCV\n",
    "from sklearn.pipeline import Pipeline\n",
    "from sklearn.metrics import classification_report\n",
    "import pandas.core.algorithms as algos\n",
    "import scipy.stats.stats as stats\n",
    "from sklearn.metrics import log_loss\n",
    "from sklearn.metrics import average_precision_score\n",
    "from pandas import Series\n",
    "import scipy.stats.stats as stats\n",
    "import traceback\n",
    "import string\n",
    "import pandas_profiling\n",
    "import calendar"
   ]
  },
  {
   "cell_type": "code",
   "execution_count": 69,
   "metadata": {},
   "outputs": [],
   "source": [
    "df = pd.read_csv('takehome_users.csv', encoding='latin-1')"
   ]
  },
  {
   "cell_type": "code",
   "execution_count": 70,
   "metadata": {},
   "outputs": [],
   "source": [
    "#pandas_profiling.ProfileReport(df)"
   ]
  },
  {
   "cell_type": "code",
   "execution_count": 71,
   "metadata": {},
   "outputs": [],
   "source": [
    "ses = pd.read_csv('takehome_user_engagement.csv', encoding='latin-1')"
   ]
  },
  {
   "cell_type": "code",
   "execution_count": 72,
   "metadata": {},
   "outputs": [],
   "source": [
    "# pandas_profiling.ProfileReport(ses)"
   ]
  },
  {
   "cell_type": "code",
   "execution_count": 73,
   "metadata": {},
   "outputs": [
    {
     "data": {
      "text/plain": [
       "(8823,)"
      ]
     },
     "execution_count": 73,
     "metadata": {},
     "output_type": "execute_result"
    }
   ],
   "source": [
    "ses['user_id'].drop_duplicates().shape"
   ]
  },
  {
   "cell_type": "code",
   "execution_count": 74,
   "metadata": {},
   "outputs": [
    {
     "name": "stdout",
     "output_type": "stream",
     "text": [
      "There are 8823 users who have ever used the application.\n",
      "There are 12000 signed up for the application.\n",
      "There is a 3177 inactive users.\n"
     ]
    }
   ],
   "source": [
    "# Are there the same number of unique users in each data set?\n",
    "\n",
    "print('There are {} users who have ever used the application.'\\\n",
    "          .format(len(list(ses['user_id'].unique()))))\n",
    "\n",
    "print('There are {} signed up for the application.'\\\n",
    "          .format(len(list(df['object_id'].unique()))))\n",
    "\n",
    "print('There is a {} inactive users.'\\\n",
    "          .format(int(len(list(df['object_id'].unique()))) \n",
    "                  - int(len(list(ses['user_id'].unique())))))"
   ]
  },
  {
   "cell_type": "markdown",
   "metadata": {},
   "source": [
    "## Data Wrangling"
   ]
  },
  {
   "cell_type": "code",
   "execution_count": 75,
   "metadata": {},
   "outputs": [],
   "source": [
    "ses['time_stamp'] = pd.to_datetime(ses['time_stamp']) - pd.to_timedelta(7, unit='d')"
   ]
  },
  {
   "cell_type": "code",
   "execution_count": 76,
   "metadata": {},
   "outputs": [
    {
     "name": "stderr",
     "output_type": "stream",
     "text": [
      "C:\\Users\\guzel\\Anaconda3\\lib\\site-packages\\ipykernel_launcher.py:1: DeprecationWarning: The default dtype for empty Series will be 'object' instead of 'float64' in a future version. Specify a dtype explicitly to silence this warning.\n",
      "  \"\"\"Entry point for launching an IPython kernel.\n"
     ]
    }
   ],
   "source": [
    "ses_stats = pd.Series([])"
   ]
  },
  {
   "cell_type": "code",
   "execution_count": 77,
   "metadata": {},
   "outputs": [],
   "source": [
    "days = ['MON', 'TUE', 'WED', 'THU', 'FRI', 'SAT', 'SUN']\n",
    "for day in days:\n",
    "    k = ses.groupby(['user_id', pd.Grouper(key='time_stamp', freq='W-' + day)])['visited'].count().reset_index().sort_values('user_id')\n",
    "    k = k.groupby('user_id')['visited'].max()\n",
    "    if len(ses_stats) == 0:\n",
    "        ses_stats = k\n",
    "    else:\n",
    "        ses_stats = pd.DataFrame([ses_stats, k]).max()"
   ]
  },
  {
   "cell_type": "code",
   "execution_count": 78,
   "metadata": {},
   "outputs": [
    {
     "data": {
      "text/plain": [
       "user_id\n",
       "1    1\n",
       "2    3\n",
       "3    1\n",
       "4    1\n",
       "5    1\n",
       "dtype: int64"
      ]
     },
     "execution_count": 78,
     "metadata": {},
     "output_type": "execute_result"
    }
   ],
   "source": [
    "ses_stats.head()"
   ]
  },
  {
   "cell_type": "code",
   "execution_count": 79,
   "metadata": {},
   "outputs": [],
   "source": [
    "df['adopted_user'] = df['object_id'].apply(lambda x: 1 if x in ses_stats and ses_stats[x] >= 3 else 0)"
   ]
  },
  {
   "cell_type": "code",
   "execution_count": 80,
   "metadata": {},
   "outputs": [
    {
     "data": {
      "text/plain": [
       "0    10398\n",
       "1     1602\n",
       "Name: adopted_user, dtype: int64"
      ]
     },
     "execution_count": 80,
     "metadata": {},
     "output_type": "execute_result"
    }
   ],
   "source": [
    "df['adopted_user'].value_counts()"
   ]
  },
  {
   "cell_type": "code",
   "execution_count": 81,
   "metadata": {},
   "outputs": [],
   "source": [
    "invited_users = df[df['invited_by_user_id'].notnull()]['invited_by_user_id'].astype('int')\n",
    "invited_users = pd.Series(1, index=invited_users)"
   ]
  },
  {
   "cell_type": "markdown",
   "metadata": {},
   "source": [
    "# Exploratory Data Analysis\n",
    "## ------- > What percentage of the users are adopted?"
   ]
  },
  {
   "cell_type": "code",
   "execution_count": 82,
   "metadata": {},
   "outputs": [
    {
     "data": {
      "image/png": "[encoded data removed]",
      "text/plain": [
       "<Figure size 432x288 with 1 Axes>"
      ]
     },
     "metadata": {
      "needs_background": "light"
     },
     "output_type": "display_data"
    },
    {
     "name": "stdout",
     "output_type": "stream",
     "text": [
      "Total percentage of the adopted users are: 13.35 %\n"
     ]
    },
    {
     "data": {
      "text/plain": [
       "0    10398\n",
       "1     1602\n",
       "Name: adopted_user, dtype: int64"
      ]
     },
     "execution_count": 82,
     "metadata": {},
     "output_type": "execute_result"
    }
   ],
   "source": [
    "# Target Variable\n",
    "sns.countplot(df['adopted_user'])\n",
    "plt.title('Users Status Graph')\n",
    "plt.xlabel('User Status')\n",
    "plt.ylabel('User Number')\n",
    "plt.show()\n",
    "\n",
    "print('Total percentage of the adopted users are:', \n",
    "      100*df['adopted_user'].sum()/df['adopted_user'].count(),'%')\n",
    "\n",
    "df['adopted_user'].value_counts()"
   ]
  },
  {
   "cell_type": "code",
   "execution_count": 83,
   "metadata": {},
   "outputs": [],
   "source": [
    "def graph_df(x, y = 'bar', z = 0): \n",
    "    \n",
    "    \"\"\"\n",
    "    This function creates graph for each feature in the dataset\n",
    "    \"\"\"\n",
    "    \n",
    "    feature = df.groupby(x).agg({'adopted_user':['size', 'sum', 'mean']})\n",
    "    feature.columns = [' '.join(col).strip() for col in feature.columns.values]\n",
    "    feature = feature.reset_index()\n",
    "    feature['adopted_user mean'] = feature['adopted_user mean']*100\n",
    "    feature.columns = [x, 'Total Users', 'Adopted User Number', \n",
    "                       '% of Adopted User in the Relevant Group'] \n",
    "    \n",
    "    fig0, ax1 = plt.subplots()\n",
    "    ax2 = ax1.twinx()\n",
    "    feature.set_index(feature[x], drop=True, inplace=True)\n",
    "    feature['Total Users'].plot(kind = y, stacked = True, ax = ax1, \n",
    "                                   colormap = 'winter', rot = z)\n",
    "    feature['% of Adopted User in the Relevant Group'].plot(use_index = False, \n",
    "                                                         kind = 'line', ax = ax2, colormap='Spectral')\n",
    "    plt.title('Adopted User status compared to' + \" \" + x  + \" \" + \"Groups\")\n",
    "    ax1.set_xlabel(x)\n",
    "    ax1.yaxis.label.set_color('blue')\n",
    "    ax1.set_ylabel(\"Total Users\")\n",
    "    ax2.set_ylabel(\"Adopted User Percentage in the Relevant Group\")\n",
    "    ax2.yaxis.label.set_color('red')\n",
    "    plt.tight_layout()\n",
    "    plt.show()"
   ]
  },
  {
   "cell_type": "markdown",
   "metadata": {},
   "source": [
    "## -------- > Analyze opted_in_to_mailing_list with adopted users"
   ]
  },
  {
   "cell_type": "code",
   "execution_count": 84,
   "metadata": {},
   "outputs": [
    {
     "data": {
      "image/png": "[encoded data removed]",
      "text/plain": [
       "<Figure size 432x288 with 2 Axes>"
      ]
     },
     "metadata": {
      "needs_background": "light"
     },
     "output_type": "display_data"
    },
    {
     "data": {
      "text/plain": [
       "opted_in_to_mailing_list\n",
       "0    0.131912\n",
       "1    0.138277\n",
       "Name: adopted_user, dtype: float64"
      ]
     },
     "execution_count": 84,
     "metadata": {},
     "output_type": "execute_result"
    }
   ],
   "source": [
    "# Analysis of adopted user and whether they opted into marketing emails\n",
    "graph_df('opted_in_to_mailing_list')\n",
    "\n",
    "#percentage of engaged users by email opt in\n",
    "df[['opted_in_to_mailing_list','adopted_user']].groupby('opted_in_to_mailing_list')['adopted_user'].mean()"
   ]
  },
  {
   "cell_type": "markdown",
   "metadata": {},
   "source": [
    "## -------- > Analyze enabled_for_marketing_drip with adopted users"
   ]
  },
  {
   "cell_type": "code",
   "execution_count": 85,
   "metadata": {},
   "outputs": [
    {
     "data": {
      "image/png": "[encoded data removed]",
      "text/plain": [
       "<Figure size 432x288 with 2 Axes>"
      ]
     },
     "metadata": {
      "needs_background": "light"
     },
     "output_type": "display_data"
    },
    {
     "data": {
      "text/plain": [
       "enabled_for_marketing_drip\n",
       "0    0.132837\n",
       "1    0.137277\n",
       "Name: adopted_user, dtype: float64"
      ]
     },
     "execution_count": 85,
     "metadata": {},
     "output_type": "execute_result"
    }
   ],
   "source": [
    "# Analysis of adopted users with regular promotional marketing email\n",
    "graph_df('enabled_for_marketing_drip')\n",
    "\n",
    "#percentage of engaged users by email opt in\n",
    "df[['enabled_for_marketing_drip','adopted_user']].groupby('enabled_for_marketing_drip')['adopted_user'].mean()"
   ]
  },
  {
   "cell_type": "markdown",
   "metadata": {},
   "source": [
    "## -------- > Analyze creation_source with adopted users"
   ]
  },
  {
   "cell_type": "code",
   "execution_count": 86,
   "metadata": {},
   "outputs": [
    {
     "data": {
      "image/png": "[encoded data removed]",
      "text/plain": [
       "<Figure size 432x288 with 2 Axes>"
      ]
     },
     "metadata": {
      "needs_background": "light"
     },
     "output_type": "display_data"
    },
    {
     "data": {
      "text/plain": [
       "creation_source\n",
       "GUEST_INVITE          0.166436\n",
       "ORG_INVITE            0.129995\n",
       "PERSONAL_PROJECTS     0.077688\n",
       "SIGNUP                0.140393\n",
       "SIGNUP_GOOGLE_AUTH    0.167509\n",
       "Name: adopted_user, dtype: float64"
      ]
     },
     "execution_count": 86,
     "metadata": {},
     "output_type": "execute_result"
    }
   ],
   "source": [
    "# Analysis of adopted users with creation source\n",
    "graph_df('creation_source', z= 90)\n",
    "\n",
    "#percentage of engaged users by creation source\n",
    "df[['creation_source','adopted_user']].groupby('creation_source')['adopted_user'].mean()"
   ]
  },
  {
   "cell_type": "code",
   "execution_count": 87,
   "metadata": {},
   "outputs": [
    {
     "data": {
      "image/png": "[encoded data removed]",
      "text/plain": [
       "<Figure size 432x288 with 2 Axes>"
      ]
     },
     "metadata": {
      "needs_background": "light"
     },
     "output_type": "display_data"
    }
   ],
   "source": [
    "graph_df('creation_source')"
   ]
  },
  {
   "cell_type": "markdown",
   "metadata": {},
   "source": [
    "People with Personal Projects are extremely less likely to be an adopted user as compared to other creation source methods. But since this does not help us in identifying adopted users, this too, isn't a very useful feature.\n",
    "\n",
    "## ---------> Analyze invited_users with adopted users"
   ]
  },
  {
   "cell_type": "code",
   "execution_count": 88,
   "metadata": {},
   "outputs": [],
   "source": [
    "\n",
    "df['invited'] = df['object_id'].apply(lambda x: 1 if x in invited_users else 0)"
   ]
  },
  {
   "cell_type": "code",
   "execution_count": 89,
   "metadata": {},
   "outputs": [
    {
     "data": {
      "image/png": "[encoded data removed]",
      "text/plain": [
       "<Figure size 432x288 with 2 Axes>"
      ]
     },
     "metadata": {
      "needs_background": "light"
     },
     "output_type": "display_data"
    },
    {
     "data": {
      "text/plain": [
       "invited\n",
       "0    0.124417\n",
       "1    0.166927\n",
       "Name: adopted_user, dtype: float64"
      ]
     },
     "execution_count": 89,
     "metadata": {},
     "output_type": "execute_result"
    }
   ],
   "source": [
    "# Analysis of adopted users with invited users\n",
    "graph_df('invited', z= 90)\n",
    "\n",
    "#percentage of engaged users by creation source\n",
    "df[['invited','adopted_user']].groupby('invited')['adopted_user'].mean()"
   ]
  },
  {
   "cell_type": "markdown",
   "metadata": {},
   "source": [
    "People who have invited other users have a slightly larger percentage chance of being an adopted user.\n",
    "\n",
    "## --------- > Analyze email domain with adopted users"
   ]
  },
  {
   "cell_type": "code",
   "execution_count": 90,
   "metadata": {},
   "outputs": [],
   "source": [
    "\n",
    "df['email'] = df['email'].apply(lambda x: x[x.find('@')+1:])\n",
    "major_domains = ['gmail.com', 'yahoo.com', 'jourrapide.com', 'cuvox.de', 'gustr.com', 'hotmail.com']\n",
    "df['email'] = df['email'].apply(lambda x: 'other' if x not in major_domains else x[:x.find('.')])"
   ]
  },
  {
   "cell_type": "code",
   "execution_count": 91,
   "metadata": {},
   "outputs": [
    {
     "data": {
      "image/png": "[encoded data removed]",
      "text/plain": [
       "<Figure size 432x288 with 2 Axes>"
      ]
     },
     "metadata": {
      "needs_background": "light"
     },
     "output_type": "display_data"
    },
    {
     "data": {
      "text/plain": [
       "email\n",
       "cuvox         0.114809\n",
       "gmail         0.152442\n",
       "gustr         0.121289\n",
       "hotmail       0.169099\n",
       "jourrapide    0.129468\n",
       "other         0.132378\n",
       "yahoo         0.106661\n",
       "Name: adopted_user, dtype: float64"
      ]
     },
     "execution_count": 91,
     "metadata": {},
     "output_type": "execute_result"
    }
   ],
   "source": [
    "# Analysis of adopted users with email domains.\n",
    "graph_df('email')\n",
    "\n",
    "#percentage of engaged users by email domain\n",
    "df[['email','adopted_user']].groupby('email')['adopted_user'].mean()"
   ]
  },
  {
   "cell_type": "markdown",
   "metadata": {},
   "source": [
    "People who have signed up using hotmail are most likely to become adopted users whereas people with yahoo IDs are the least likely. However, since the difference is so small, it might be entirely possible that these observations are due to noise.\n",
    "\n",
    "# -------> Analyze last_session_creation_time and adopted users"
   ]
  },
  {
   "cell_type": "code",
   "execution_count": 92,
   "metadata": {},
   "outputs": [],
   "source": [
    "#sns.set(style=\"darkgrid\", color_codes=True)\n",
    "#j = sns.jointplot(x='last_session_creation_time', y='adopted_user', data=df, kind='reg', height=8)\n",
    "#j.annotate(stats.pearsonr)\n",
    "#plt.show()"
   ]
  },
  {
   "cell_type": "markdown",
   "metadata": {},
   "source": [
    "There seems to be a medium correlation between the last session creation time and the target variable. This may be the most important feature to predict our adopted users as all the other variables have been extremely weak in explaining the target variable.\n",
    "\n",
    "# Feature Engineering"
   ]
  },
  {
   "cell_type": "code",
   "execution_count": 93,
   "metadata": {},
   "outputs": [],
   "source": [
    "df = df.set_index('object_id')\n"
   ]
  },
  {
   "cell_type": "code",
   "execution_count": 94,
   "metadata": {},
   "outputs": [],
   "source": [
    "df = df.drop('name', axis=1)\n"
   ]
  },
  {
   "cell_type": "code",
   "execution_count": 95,
   "metadata": {},
   "outputs": [
    {
     "data": {
      "text/plain": [
       "gmail         3562\n",
       "yahoo         2447\n",
       "jourrapide    1259\n",
       "cuvox         1202\n",
       "other         1186\n",
       "gustr         1179\n",
       "hotmail       1165\n",
       "Name: email, dtype: int64"
      ]
     },
     "execution_count": 95,
     "metadata": {},
     "output_type": "execute_result"
    }
   ],
   "source": [
    "df['email'].value_counts()\n"
   ]
  },
  {
   "cell_type": "code",
   "execution_count": 96,
   "metadata": {},
   "outputs": [],
   "source": [
    "df = df.drop('invited_by_user_id', axis=1)\n"
   ]
  },
  {
   "cell_type": "code",
   "execution_count": 97,
   "metadata": {},
   "outputs": [
    {
     "data": {
      "text/plain": [
       "(417,)"
      ]
     },
     "execution_count": 97,
     "metadata": {},
     "output_type": "execute_result"
    }
   ],
   "source": [
    "df['org_id'].value_counts().shape\n"
   ]
  },
  {
   "cell_type": "code",
   "execution_count": 98,
   "metadata": {},
   "outputs": [
    {
     "data": {
      "text/plain": [
       "(400,)"
      ]
     },
     "execution_count": 98,
     "metadata": {},
     "output_type": "execute_result"
    }
   ],
   "source": [
    "df[df['adopted_user'] == 1]['org_id'].value_counts().shape\n"
   ]
  },
  {
   "cell_type": "code",
   "execution_count": 99,
   "metadata": {},
   "outputs": [],
   "source": [
    "df = df.drop('org_id', axis=1)\n"
   ]
  },
  {
   "cell_type": "code",
   "execution_count": 100,
   "metadata": {},
   "outputs": [],
   "source": [
    "df['creation_time'] = pd.to_datetime(df['creation_time'])\n",
    "df['month'] = df['creation_time'].apply(lambda x: x.month)\n",
    "df['year'] = df['creation_time'].apply(lambda x: x.year)"
   ]
  },
  {
   "cell_type": "code",
   "execution_count": 101,
   "metadata": {},
   "outputs": [],
   "source": [
    "df = df.drop('creation_time', axis=1)"
   ]
  },
  {
   "cell_type": "code",
   "execution_count": 102,
   "metadata": {},
   "outputs": [],
   "source": [
    "df['year'] = df['year'].astype('str')\n",
    "df['month'] = df['month'].astype('str')"
   ]
  },
  {
   "cell_type": "code",
   "execution_count": 103,
   "metadata": {},
   "outputs": [],
   "source": [
    "df = pd.get_dummies(df, prefix='is')\n"
   ]
  },
  {
   "cell_type": "code",
   "execution_count": 104,
   "metadata": {},
   "outputs": [],
   "source": [
    "df['last_session_creation_time'].fillna(0, inplace = True)\n"
   ]
  },
  {
   "cell_type": "markdown",
   "metadata": {},
   "source": [
    "# Modelling\n",
    "Since we have a small feature set and sample size, Kneighbors and RandomForestClassifier are both good choices for this data set. However, we have a mix of categorical and numerical data so RandomForestClassifier will be easiest to implement. I will use the metric for this classification problem ROC_AUC."
   ]
  },
  {
   "cell_type": "code",
   "execution_count": 105,
   "metadata": {},
   "outputs": [],
   "source": [
    "# Split the data training and test set\n",
    "X = df.drop('adopted_user', axis = 1)\n",
    "y = df['adopted_user']\n",
    "\n",
    "X_train, X_test, y_train, y_test = train_test_split(X, y, test_size=0.25, \n",
    "                                                    random_state=0, stratify=y)"
   ]
  },
  {
   "cell_type": "code",
   "execution_count": 106,
   "metadata": {},
   "outputs": [
    {
     "data": {
      "text/plain": [
       "GridSearchCV(cv=5, error_score=nan,\n",
       "             estimator=Pipeline(memory=None,\n",
       "                                steps=[('selectKBest',\n",
       "                                        SelectKBest(k=10,\n",
       "                                                    score_func=<function f_classif at 0x0000022BC71F8B88>)),\n",
       "                                       ('clf',\n",
       "                                        RandomForestClassifier(bootstrap=True,\n",
       "                                                               ccp_alpha=0.0,\n",
       "                                                               class_weight=None,\n",
       "                                                               criterion='gini',\n",
       "                                                               max_depth=None,\n",
       "                                                               max_features='auto',\n",
       "                                                               max_leaf_nodes=None,\n",
       "                                                               max_samples=None,\n",
       "                                                               min_impurity_decrease=0.0,\n",
       "                                                               m...\n",
       "                                                               n_jobs=None,\n",
       "                                                               oob_score=False,\n",
       "                                                               random_state=None,\n",
       "                                                               verbose=0,\n",
       "                                                               warm_start=False))],\n",
       "                                verbose=False),\n",
       "             iid='deprecated', n_jobs=None,\n",
       "             param_grid={'clf__class_weight': ['balanced',\n",
       "                                               'balanced_subsample'],\n",
       "                         'clf__n_estimators': range(1, 10),\n",
       "                         'clf__random_state': [21],\n",
       "                         'selectKBest__k': range(2, 12)},\n",
       "             pre_dispatch='2*n_jobs', refit=True, return_train_score=False,\n",
       "             scoring='roc_auc', verbose=0)"
      ]
     },
     "execution_count": 106,
     "metadata": {},
     "output_type": "execute_result"
    }
   ],
   "source": [
    "pipe = Pipeline([('selectKBest', SelectKBest()), ('clf', RandomForestClassifier())])\n",
    "param_grid = {\n",
    "    'clf__n_estimators' : range(1,10,1),\n",
    "    'selectKBest__k' : range(2,12,1),\n",
    "    'clf__class_weight' : ['balanced', 'balanced_subsample'],\n",
    "    'clf__random_state' : [21]\n",
    "}\n",
    "\n",
    "grid =GridSearchCV(pipe, param_grid, cv=5, scoring = 'roc_auc' )\n",
    "grid.fit(X_train, y_train)"
   ]
  },
  {
   "cell_type": "code",
   "execution_count": 107,
   "metadata": {},
   "outputs": [
    {
     "data": {
      "text/plain": [
       "0.9373681795649393"
      ]
     },
     "execution_count": 107,
     "metadata": {},
     "output_type": "execute_result"
    }
   ],
   "source": [
    "grid.best_score_\n"
   ]
  },
  {
   "cell_type": "code",
   "execution_count": 108,
   "metadata": {},
   "outputs": [
    {
     "data": {
      "text/plain": [
       "0.9427379807692308"
      ]
     },
     "execution_count": 108,
     "metadata": {},
     "output_type": "execute_result"
    }
   ],
   "source": [
    "y_pred = grid.predict(X_test)\n",
    "grid.score(X_test, y_test)"
   ]
  },
  {
   "cell_type": "code",
   "execution_count": 109,
   "metadata": {},
   "outputs": [
    {
     "data": {
      "text/plain": [
       "{'clf__class_weight': 'balanced',\n",
       " 'clf__n_estimators': 9,\n",
       " 'clf__random_state': 21,\n",
       " 'selectKBest__k': 11}"
      ]
     },
     "execution_count": 109,
     "metadata": {},
     "output_type": "execute_result"
    }
   ],
   "source": [
    "grid.best_params_"
   ]
  },
  {
   "cell_type": "markdown",
   "metadata": {},
   "source": [
    "## Feature Importance\n",
    "\n",
    "Whatever coefficients the classifier has assigned to the features will indicate which ones it found more useful in making the correct classifications."
   ]
  },
  {
   "cell_type": "code",
   "execution_count": 110,
   "metadata": {},
   "outputs": [],
   "source": [
    "clf = RandomForestClassifier(n_estimators=9, class_weight='balanced', random_state=21)"
   ]
  },
  {
   "cell_type": "code",
   "execution_count": 111,
   "metadata": {},
   "outputs": [
    {
     "data": {
      "text/plain": [
       "RandomForestClassifier(bootstrap=True, ccp_alpha=0.0, class_weight='balanced',\n",
       "                       criterion='gini', max_depth=None, max_features='auto',\n",
       "                       max_leaf_nodes=None, max_samples=None,\n",
       "                       min_impurity_decrease=0.0, min_impurity_split=None,\n",
       "                       min_samples_leaf=1, min_samples_split=2,\n",
       "                       min_weight_fraction_leaf=0.0, n_estimators=9,\n",
       "                       n_jobs=None, oob_score=False, random_state=21, verbose=0,\n",
       "                       warm_start=False)"
      ]
     },
     "execution_count": 111,
     "metadata": {},
     "output_type": "execute_result"
    }
   ],
   "source": [
    "clf.fit(X_train, y_train)"
   ]
  },
  {
   "cell_type": "code",
   "execution_count": 112,
   "metadata": {},
   "outputs": [
    {
     "data": {
      "text/html": [
       "<div>\n",
       "<style scoped>\n",
       "    .dataframe tbody tr th:only-of-type {\n",
       "        vertical-align: middle;\n",
       "    }\n",
       "\n",
       "    .dataframe tbody tr th {\n",
       "        vertical-align: top;\n",
       "    }\n",
       "\n",
       "    .dataframe thead th {\n",
       "        text-align: right;\n",
       "    }\n",
       "</style>\n",
       "<table border=\"1\" class=\"dataframe\">\n",
       "  <thead>\n",
       "    <tr style=\"text-align: right;\">\n",
       "      <th></th>\n",
       "      <th>importance</th>\n",
       "    </tr>\n",
       "  </thead>\n",
       "  <tbody>\n",
       "    <tr>\n",
       "      <th>last_session_creation_time</th>\n",
       "      <td>0.726760</td>\n",
       "    </tr>\n",
       "    <tr>\n",
       "      <th>is_5</th>\n",
       "      <td>0.038980</td>\n",
       "    </tr>\n",
       "    <tr>\n",
       "      <th>opted_in_to_mailing_list</th>\n",
       "      <td>0.015106</td>\n",
       "    </tr>\n",
       "    <tr>\n",
       "      <th>enabled_for_marketing_drip</th>\n",
       "      <td>0.013774</td>\n",
       "    </tr>\n",
       "    <tr>\n",
       "      <th>invited</th>\n",
       "      <td>0.012147</td>\n",
       "    </tr>\n",
       "    <tr>\n",
       "      <th>is_2014</th>\n",
       "      <td>0.011667</td>\n",
       "    </tr>\n",
       "    <tr>\n",
       "      <th>is_1</th>\n",
       "      <td>0.010430</td>\n",
       "    </tr>\n",
       "    <tr>\n",
       "      <th>is_PERSONAL_PROJECTS</th>\n",
       "      <td>0.009963</td>\n",
       "    </tr>\n",
       "    <tr>\n",
       "      <th>is_2</th>\n",
       "      <td>0.009273</td>\n",
       "    </tr>\n",
       "    <tr>\n",
       "      <th>is_3</th>\n",
       "      <td>0.009137</td>\n",
       "    </tr>\n",
       "    <tr>\n",
       "      <th>is_2013</th>\n",
       "      <td>0.008823</td>\n",
       "    </tr>\n",
       "    <tr>\n",
       "      <th>is_ORG_INVITE</th>\n",
       "      <td>0.008330</td>\n",
       "    </tr>\n",
       "    <tr>\n",
       "      <th>is_2012</th>\n",
       "      <td>0.008270</td>\n",
       "    </tr>\n",
       "    <tr>\n",
       "      <th>is_4</th>\n",
       "      <td>0.008256</td>\n",
       "    </tr>\n",
       "    <tr>\n",
       "      <th>is_SIGNUP</th>\n",
       "      <td>0.008254</td>\n",
       "    </tr>\n",
       "    <tr>\n",
       "      <th>is_gmail</th>\n",
       "      <td>0.008184</td>\n",
       "    </tr>\n",
       "    <tr>\n",
       "      <th>is_GUEST_INVITE</th>\n",
       "      <td>0.008033</td>\n",
       "    </tr>\n",
       "    <tr>\n",
       "      <th>is_12</th>\n",
       "      <td>0.007476</td>\n",
       "    </tr>\n",
       "    <tr>\n",
       "      <th>is_6</th>\n",
       "      <td>0.006826</td>\n",
       "    </tr>\n",
       "    <tr>\n",
       "      <th>is_9</th>\n",
       "      <td>0.006458</td>\n",
       "    </tr>\n",
       "    <tr>\n",
       "      <th>is_11</th>\n",
       "      <td>0.006425</td>\n",
       "    </tr>\n",
       "    <tr>\n",
       "      <th>is_hotmail</th>\n",
       "      <td>0.006343</td>\n",
       "    </tr>\n",
       "    <tr>\n",
       "      <th>is_yahoo</th>\n",
       "      <td>0.006254</td>\n",
       "    </tr>\n",
       "    <tr>\n",
       "      <th>is_gustr</th>\n",
       "      <td>0.006135</td>\n",
       "    </tr>\n",
       "    <tr>\n",
       "      <th>is_cuvox</th>\n",
       "      <td>0.006116</td>\n",
       "    </tr>\n",
       "    <tr>\n",
       "      <th>is_SIGNUP_GOOGLE_AUTH</th>\n",
       "      <td>0.005699</td>\n",
       "    </tr>\n",
       "    <tr>\n",
       "      <th>is_8</th>\n",
       "      <td>0.005588</td>\n",
       "    </tr>\n",
       "    <tr>\n",
       "      <th>is_jourrapide</th>\n",
       "      <td>0.005550</td>\n",
       "    </tr>\n",
       "    <tr>\n",
       "      <th>is_10</th>\n",
       "      <td>0.005311</td>\n",
       "    </tr>\n",
       "    <tr>\n",
       "      <th>is_7</th>\n",
       "      <td>0.005274</td>\n",
       "    </tr>\n",
       "    <tr>\n",
       "      <th>is_other</th>\n",
       "      <td>0.005161</td>\n",
       "    </tr>\n",
       "  </tbody>\n",
       "</table>\n",
       "</div>"
      ],
      "text/plain": [
       "                            importance\n",
       "last_session_creation_time    0.726760\n",
       "is_5                          0.038980\n",
       "opted_in_to_mailing_list      0.015106\n",
       "enabled_for_marketing_drip    0.013774\n",
       "invited                       0.012147\n",
       "is_2014                       0.011667\n",
       "is_1                          0.010430\n",
       "is_PERSONAL_PROJECTS          0.009963\n",
       "is_2                          0.009273\n",
       "is_3                          0.009137\n",
       "is_2013                       0.008823\n",
       "is_ORG_INVITE                 0.008330\n",
       "is_2012                       0.008270\n",
       "is_4                          0.008256\n",
       "is_SIGNUP                     0.008254\n",
       "is_gmail                      0.008184\n",
       "is_GUEST_INVITE               0.008033\n",
       "is_12                         0.007476\n",
       "is_6                          0.006826\n",
       "is_9                          0.006458\n",
       "is_11                         0.006425\n",
       "is_hotmail                    0.006343\n",
       "is_yahoo                      0.006254\n",
       "is_gustr                      0.006135\n",
       "is_cuvox                      0.006116\n",
       "is_SIGNUP_GOOGLE_AUTH         0.005699\n",
       "is_8                          0.005588\n",
       "is_jourrapide                 0.005550\n",
       "is_10                         0.005311\n",
       "is_7                          0.005274\n",
       "is_other                      0.005161"
      ]
     },
     "execution_count": 112,
     "metadata": {},
     "output_type": "execute_result"
    }
   ],
   "source": [
    "# Feature importance as a table\n",
    "pd.DataFrame(clf.feature_importances_, \n",
    "             index = X_train.columns, columns = ['importance']).sort_values('importance', ascending=False)"
   ]
  },
  {
   "cell_type": "code",
   "execution_count": 113,
   "metadata": {},
   "outputs": [
    {
     "data": {
      "text/plain": [
       "<matplotlib.axes._subplots.AxesSubplot at 0x22bc7de2ec8>"
      ]
     },
     "execution_count": 113,
     "metadata": {},
     "output_type": "execute_result"
    },
    {
     "data": {
      "image/png": "[encoded data removed]",
      "text/plain": [
       "<Figure size 864x576 with 1 Axes>"
      ]
     },
     "metadata": {
      "needs_background": "light"
     },
     "output_type": "display_data"
    }
   ],
   "source": [
    "# Feature importance as a graph\n",
    "plt.figure(figsize=(12, 8))\n",
    "feat_importances = pd.Series(clf.feature_importances_, index = X_train.columns)\n",
    "feat_importances.nlargest(32).plot(kind='barh')"
   ]
  },
  {
   "cell_type": "markdown",
   "metadata": {},
   "source": [
    "The most important feature to predict user adoption is last_session_creation_time.\n",
    "\n",
    "## Conclusion\n",
    "\n",
    "From the analysis and the predictive modeling that we have performed above, the results can be summarized as follows:\n",
    "\n",
    "86% of our userbase are non adopted users. This clearly indicates that there is a lot that can be done to decrease this proportion relative to the number of adopted users.\n",
    "\n",
    "last_session_creation_time is the most important feature when it comes to predicting adopted users. It accounts for more than 72% of the importance in our Random Forest Classifier.\n",
    "\n",
    "All the other features have close to zero importance and do not explain the target variable well."
   ]
  }
 ],
 "metadata": {
  "kernelspec": {
   "display_name": "Python 3",
   "language": "python",
   "name": "python3"
  },
  "language_info": {
   "codemirror_mode": {
    "name": "ipython",
    "version": 3
   },
   "file_extension": ".py",
   "mimetype": "text/x-python",
   "name": "python",
   "nbconvert_exporter": "python",
   "pygments_lexer": "ipython3",
   "version": "3.7.4"
  }
 },
 "nbformat": 4,
 "nbformat_minor": 4
}
